{
 "cells": [
  {
   "cell_type": "markdown",
   "id": "e6c69df1",
   "metadata": {},
   "source": [
    "# Cargando datos"
   ]
  },
  {
   "cell_type": "markdown",
   "id": "d34e460d",
   "metadata": {},
   "source": [
    "Uniendo ambos dfs"
   ]
  },
  {
   "cell_type": "code",
   "execution_count": 287,
   "id": "22685e46",
   "metadata": {},
   "outputs": [
    {
     "data": {
      "text/html": [
       "<div>\n",
       "<style scoped>\n",
       "    .dataframe tbody tr th:only-of-type {\n",
       "        vertical-align: middle;\n",
       "    }\n",
       "\n",
       "    .dataframe tbody tr th {\n",
       "        vertical-align: top;\n",
       "    }\n",
       "\n",
       "    .dataframe thead th {\n",
       "        text-align: right;\n",
       "    }\n",
       "</style>\n",
       "<table border=\"1\" class=\"dataframe\">\n",
       "  <thead>\n",
       "    <tr style=\"text-align: right;\">\n",
       "      <th></th>\n",
       "      <th>Unnamed: 0</th>\n",
       "      <th>Comments</th>\n",
       "      <th>Article_ID</th>\n",
       "    </tr>\n",
       "  </thead>\n",
       "  <tbody>\n",
       "    <tr>\n",
       "      <th>0</th>\n",
       "      <td>0</td>\n",
       "      <td>Labure en un equipo de DS como monito programador, los DS todos tenian phd, es puro humo el resto.</td>\n",
       "      <td>163wrg7</td>\n",
       "    </tr>\n",
       "    <tr>\n",
       "      <th>1</th>\n",
       "      <td>1</td>\n",
       "      <td>![gif](giphy|xT5LMuQroxQi36Hwys|downsized)</td>\n",
       "      <td>163wrg7</td>\n",
       "    </tr>\n",
       "    <tr>\n",
       "      <th>2</th>\n",
       "      <td>2</td>\n",
       "      <td>Si, totalmente. En un laburo donde estuve una vez buscaban uno, y el perfil no bajaba de Principal, buscaban un doctorado en Matemáticas y de ahí para arriba. \\n\\nEs un rol que necesita una sólida base de ciencias duras, por ende el 99% de los bootcamps vende humo y del espeso</td>\n",
       "      <td>163wrg7</td>\n",
       "    </tr>\n",
       "    <tr>\n",
       "      <th>3</th>\n",
       "      <td>3</td>\n",
       "      <td>Puro humo. El jefe de la parte de datos de la empresa tiene un doctorado en estadística y es ingeniero en sistemas.</td>\n",
       "      <td>163wrg7</td>\n",
       "    </tr>\n",
       "    <tr>\n",
       "      <th>4</th>\n",
       "      <td>4</td>\n",
       "      <td>Yo trabajo en el área de data science, y hasta ahora (aprox un año) no tuve que aplicar ningún conocimiento de estadística o matemática. Depende mucho la empresa y el enfoque que se le da al área, en mi caso está más enfocado a sistemas, pero te podés encontrar con áreas como análisis de riesgo donde en general hay actuarios o economistas y se aplica mucho más las matemáticas.\\n\\nObviamente lo ideal es saber los fundamentos que hay atrás de cada algoritmo. Pero si no te vas a dedicar a la investigación, desarrollo y/o optimización de nuevos modelos de ml, y solo vas a aplicar machine learning/inteligencia artificial para dar soluciones a la industria, entonces con cursos y lo básico de estadística, ya estás.</td>\n",
       "      <td>163wrg7</td>\n",
       "    </tr>\n",
       "  </tbody>\n",
       "</table>\n",
       "</div>"
      ],
      "text/plain": [
       "   Unnamed: 0  \\\n",
       "0           0   \n",
       "1           1   \n",
       "2           2   \n",
       "3           3   \n",
       "4           4   \n",
       "\n",
       "                                                                                                                                                                                                                                                                                                                                                                                                                                                                                                                                                                                                                                                                                                                                        Comments  \\\n",
       "0                                                                                                                                                                                                                                                                                                                                                                                                                                                                                                                                                                                                                                             Labure en un equipo de DS como monito programador, los DS todos tenian phd, es puro humo el resto.   \n",
       "1                                                                                                                                                                                                                                                                                                                                                                                                                                                                                                                                                                                                                                                                                                     ![gif](giphy|xT5LMuQroxQi36Hwys|downsized)   \n",
       "2                                                                                                                                                                                                                                                                                                                                                                                                                                                          Si, totalmente. En un laburo donde estuve una vez buscaban uno, y el perfil no bajaba de Principal, buscaban un doctorado en Matemáticas y de ahí para arriba. \\n\\nEs un rol que necesita una sólida base de ciencias duras, por ende el 99% de los bootcamps vende humo y del espeso   \n",
       "3                                                                                                                                                                                                                                                                                                                                                                                                                                                                                                                                                                                                                            Puro humo. El jefe de la parte de datos de la empresa tiene un doctorado en estadística y es ingeniero en sistemas.   \n",
       "4  Yo trabajo en el área de data science, y hasta ahora (aprox un año) no tuve que aplicar ningún conocimiento de estadística o matemática. Depende mucho la empresa y el enfoque que se le da al área, en mi caso está más enfocado a sistemas, pero te podés encontrar con áreas como análisis de riesgo donde en general hay actuarios o economistas y se aplica mucho más las matemáticas.\\n\\nObviamente lo ideal es saber los fundamentos que hay atrás de cada algoritmo. Pero si no te vas a dedicar a la investigación, desarrollo y/o optimización de nuevos modelos de ml, y solo vas a aplicar machine learning/inteligencia artificial para dar soluciones a la industria, entonces con cursos y lo básico de estadística, ya estás.   \n",
       "\n",
       "  Article_ID  \n",
       "0    163wrg7  \n",
       "1    163wrg7  \n",
       "2    163wrg7  \n",
       "3    163wrg7  \n",
       "4    163wrg7  "
      ]
     },
     "execution_count": 287,
     "metadata": {},
     "output_type": "execute_result"
    }
   ],
   "source": [
    "import pandas as pd\n",
    "\n",
    "df1 = pd.read_csv('reddit_comments1.csv')\n",
    "df2 = pd.read_csv('reddit_comments2.csv')\n",
    "\n",
    "df = pd.concat([df1, df2], ignore_index=True)\n",
    "\n",
    "df.head()"
   ]
  },
  {
   "cell_type": "markdown",
   "id": "e8ed777d",
   "metadata": {},
   "source": [
    "Eliminando columnas que no son necesarias"
   ]
  },
  {
   "cell_type": "code",
   "execution_count": 288,
   "id": "adf48545",
   "metadata": {},
   "outputs": [],
   "source": [
    "df = df.drop(columns=['Unnamed: 0', 'Article_ID'])"
   ]
  },
  {
   "cell_type": "code",
   "execution_count": 289,
   "id": "ae1e5abd",
   "metadata": {},
   "outputs": [
    {
     "data": {
      "text/plain": [
       "203"
      ]
     },
     "execution_count": 289,
     "metadata": {},
     "output_type": "execute_result"
    }
   ],
   "source": [
    "len(df1)"
   ]
  },
  {
   "cell_type": "code",
   "execution_count": 290,
   "id": "61b481a2",
   "metadata": {},
   "outputs": [
    {
     "data": {
      "text/plain": [
       "159"
      ]
     },
     "execution_count": 290,
     "metadata": {},
     "output_type": "execute_result"
    }
   ],
   "source": [
    "len(df2)"
   ]
  },
  {
   "cell_type": "code",
   "execution_count": 291,
   "id": "a484d758",
   "metadata": {},
   "outputs": [
    {
     "data": {
      "text/plain": [
       "362"
      ]
     },
     "execution_count": 291,
     "metadata": {},
     "output_type": "execute_result"
    }
   ],
   "source": [
    "len(df)"
   ]
  },
  {
   "cell_type": "code",
   "execution_count": 292,
   "id": "11078427",
   "metadata": {},
   "outputs": [],
   "source": [
    "nuevos_comentarios = [\n",
    "    # A favor\n",
    "    \"La ciencia de datos ayuda a descubrir patrones ocultos en la información.\",\n",
    "    \"Las empresas usan ciencia de datos para optimizar procesos y reducir costos.\",\n",
    "    \"La ciencia de datos mejora la precisión de las decisiones estratégicas.\",\n",
    "    \"El análisis de datos permite personalizar servicios y productos para cada cliente.\",\n",
    "    \"La ciencia de datos impulsa la investigación en salud, energía y sostenibilidad.\",\n",
    "    \n",
    "    # En contra\n",
    "    \"El auge de la IA hará que muchas tareas de ciencia de datos sean automáticas.\",\n",
    "    \"Demasiadas personas estudian ciencia de datos, el mercado se está saturando.\",\n",
    "    \"Herramientas no-code reducen la necesidad de expertos en ciencia de datos.\",\n",
    "    \"El valor de la ciencia de datos caerá cuando haya modelos listos para todo.\",\n",
    "    \"Pronto, la automatización hará innecesario gran parte del trabajo en ciencia de datos.\"\n",
    "\n",
    "    # carros\n",
    "    \"Me encantan los carros deportivos\",\n",
    "    \"Los carros me gustan mucho\",\n",
    "    \"Los carros son mi pasión\",\n",
    "    \"Los carros son geniales\",\n",
    "]\n",
    "\n",
    "\n",
    "\n",
    "# Crear un DataFrame temporal con las nuevas filas\n",
    "df_nuevos = pd.DataFrame({\"Comments\": nuevos_comentarios})\n",
    "\n",
    "df = pd.concat([df, df_nuevos], ignore_index=True)"
   ]
  },
  {
   "cell_type": "code",
   "execution_count": 293,
   "id": "324abdc5",
   "metadata": {},
   "outputs": [
    {
     "data": {
      "text/html": [
       "<div>\n",
       "<style scoped>\n",
       "    .dataframe tbody tr th:only-of-type {\n",
       "        vertical-align: middle;\n",
       "    }\n",
       "\n",
       "    .dataframe tbody tr th {\n",
       "        vertical-align: top;\n",
       "    }\n",
       "\n",
       "    .dataframe thead th {\n",
       "        text-align: right;\n",
       "    }\n",
       "</style>\n",
       "<table border=\"1\" class=\"dataframe\">\n",
       "  <thead>\n",
       "    <tr style=\"text-align: right;\">\n",
       "      <th></th>\n",
       "      <th>Comments</th>\n",
       "    </tr>\n",
       "  </thead>\n",
       "  <tbody>\n",
       "    <tr>\n",
       "      <th>0</th>\n",
       "      <td>Labure en un equipo de DS como monito programador, los DS todos tenian phd, es puro humo el resto.</td>\n",
       "    </tr>\n",
       "    <tr>\n",
       "      <th>1</th>\n",
       "      <td>![gif](giphy|xT5LMuQroxQi36Hwys|downsized)</td>\n",
       "    </tr>\n",
       "    <tr>\n",
       "      <th>2</th>\n",
       "      <td>Si, totalmente. En un laburo donde estuve una vez buscaban uno, y el perfil no bajaba de Principal, buscaban un doctorado en Matemáticas y de ahí para arriba. \\n\\nEs un rol que necesita una sólida base de ciencias duras, por ende el 99% de los bootcamps vende humo y del espeso</td>\n",
       "    </tr>\n",
       "    <tr>\n",
       "      <th>3</th>\n",
       "      <td>Puro humo. El jefe de la parte de datos de la empresa tiene un doctorado en estadística y es ingeniero en sistemas.</td>\n",
       "    </tr>\n",
       "    <tr>\n",
       "      <th>4</th>\n",
       "      <td>Yo trabajo en el área de data science, y hasta ahora (aprox un año) no tuve que aplicar ningún conocimiento de estadística o matemática. Depende mucho la empresa y el enfoque que se le da al área, en mi caso está más enfocado a sistemas, pero te podés encontrar con áreas como análisis de riesgo donde en general hay actuarios o economistas y se aplica mucho más las matemáticas.\\n\\nObviamente lo ideal es saber los fundamentos que hay atrás de cada algoritmo. Pero si no te vas a dedicar a la investigación, desarrollo y/o optimización de nuevos modelos de ml, y solo vas a aplicar machine learning/inteligencia artificial para dar soluciones a la industria, entonces con cursos y lo básico de estadística, ya estás.</td>\n",
       "    </tr>\n",
       "  </tbody>\n",
       "</table>\n",
       "</div>"
      ],
      "text/plain": [
       "                                                                                                                                                                                                                                                                                                                                                                                                                                                                                                                                                                                                                                                                                                                                        Comments\n",
       "0                                                                                                                                                                                                                                                                                                                                                                                                                                                                                                                                                                                                                                             Labure en un equipo de DS como monito programador, los DS todos tenian phd, es puro humo el resto.\n",
       "1                                                                                                                                                                                                                                                                                                                                                                                                                                                                                                                                                                                                                                                                                                     ![gif](giphy|xT5LMuQroxQi36Hwys|downsized)\n",
       "2                                                                                                                                                                                                                                                                                                                                                                                                                                                          Si, totalmente. En un laburo donde estuve una vez buscaban uno, y el perfil no bajaba de Principal, buscaban un doctorado en Matemáticas y de ahí para arriba. \\n\\nEs un rol que necesita una sólida base de ciencias duras, por ende el 99% de los bootcamps vende humo y del espeso\n",
       "3                                                                                                                                                                                                                                                                                                                                                                                                                                                                                                                                                                                                                            Puro humo. El jefe de la parte de datos de la empresa tiene un doctorado en estadística y es ingeniero en sistemas.\n",
       "4  Yo trabajo en el área de data science, y hasta ahora (aprox un año) no tuve que aplicar ningún conocimiento de estadística o matemática. Depende mucho la empresa y el enfoque que se le da al área, en mi caso está más enfocado a sistemas, pero te podés encontrar con áreas como análisis de riesgo donde en general hay actuarios o economistas y se aplica mucho más las matemáticas.\\n\\nObviamente lo ideal es saber los fundamentos que hay atrás de cada algoritmo. Pero si no te vas a dedicar a la investigación, desarrollo y/o optimización de nuevos modelos de ml, y solo vas a aplicar machine learning/inteligencia artificial para dar soluciones a la industria, entonces con cursos y lo básico de estadística, ya estás."
      ]
     },
     "execution_count": 293,
     "metadata": {},
     "output_type": "execute_result"
    }
   ],
   "source": [
    "df.head()"
   ]
  },
  {
   "cell_type": "markdown",
   "id": "3b915987",
   "metadata": {},
   "source": [
    "# Limpieza de datos"
   ]
  },
  {
   "cell_type": "markdown",
   "id": "510de0ef",
   "metadata": {},
   "source": [
    "Nos quedamos solo con aquellos que tienen más de 6 caracteres"
   ]
  },
  {
   "cell_type": "code",
   "execution_count": 294,
   "id": "0ee77315",
   "metadata": {},
   "outputs": [],
   "source": [
    "df = df[df['Comments'].str.len() > 10]"
   ]
  },
  {
   "cell_type": "code",
   "execution_count": null,
   "id": "341efaa6",
   "metadata": {},
   "outputs": [],
   "source": [
    "df = df[df['Comments'].str.len() < 170]"
   ]
  },
  {
   "cell_type": "markdown",
   "id": "433ec305",
   "metadata": {},
   "source": [
    "Eliminamos comentarios duplicados"
   ]
  },
  {
   "cell_type": "code",
   "execution_count": 296,
   "id": "ee8d49ff",
   "metadata": {},
   "outputs": [],
   "source": [
    "df = df.drop_duplicates(subset='Comments')"
   ]
  },
  {
   "cell_type": "markdown",
   "id": "50694d91",
   "metadata": {},
   "source": [
    "# Verificar que funciona el phrase to embedding"
   ]
  },
  {
   "cell_type": "code",
   "execution_count": 297,
   "id": "ee99f904",
   "metadata": {},
   "outputs": [
    {
     "name": "stderr",
     "output_type": "stream",
     "text": [
      "\n",
      "[notice] A new release of pip is available: 23.1.2 -> 25.2\n",
      "[notice] To update, run: python.exe -m pip install --upgrade pip\n"
     ]
    }
   ],
   "source": [
    "!pip install -q sentence-transformers"
   ]
  },
  {
   "cell_type": "markdown",
   "id": "4e97dd89",
   "metadata": {},
   "source": [
    "Probamos generar embeddings"
   ]
  },
  {
   "cell_type": "code",
   "execution_count": null,
   "id": "975ec67f",
   "metadata": {},
   "outputs": [
    {
     "name": "stdout",
     "output_type": "stream",
     "text": [
      "(2, 384)\n",
      "[ 1.17575815e-02  7.34429881e-02 -1.83306068e-01 -1.79916620e-01\n",
      " -2.88933098e-01 -8.55137035e-03  3.61190647e-01  3.38651627e-01\n",
      " -1.50086675e-02 -1.86697338e-02 -4.71796468e-02  1.38983186e-02\n",
      "  2.49787010e-02  1.84713565e-02 -7.97504485e-02 -1.39127582e-01\n",
      "  2.96416819e-01 -5.29948249e-02 -1.08694933e-01 -1.96167022e-01\n",
      " -3.70307058e-01  2.00011805e-01 -8.85496289e-02  2.54753977e-01\n",
      " -1.96138918e-01 -1.01770014e-02 -2.70332638e-02  4.10409011e-02\n",
      "  2.01787949e-02 -2.63322413e-01  3.99000570e-02  8.93145055e-02\n",
      "  1.67913690e-01 -6.91020712e-02 -2.20052883e-01  1.04331098e-01\n",
      "  2.02376135e-02 -3.70090425e-01 -4.46848422e-02 -2.23545298e-01\n",
      "  6.40539527e-02  1.39296785e-01  8.58055875e-02  1.98045239e-01\n",
      "  1.55923041e-02  1.60782337e-02  1.51088625e-01 -2.14019671e-01\n",
      "  4.03685302e-01  1.67928502e-01  1.25912145e-01 -2.86388546e-01\n",
      " -2.04541951e-01 -2.18376264e-01  1.73360899e-01  8.29442367e-02\n",
      " -5.66976890e-02 -4.85686772e-03 -1.28955543e-01  7.77467191e-02\n",
      "  6.59535974e-02 -2.85765678e-01 -1.00596622e-01  1.57237083e-01\n",
      " -1.36726215e-01 -3.14102978e-01 -1.58680335e-01 -1.17303036e-01\n",
      " -5.43518141e-02 -1.36490181e-01 -9.74908024e-02  1.19627640e-01\n",
      "  2.95404553e-01  8.11993182e-02 -3.23672891e-02 -3.20655890e-02\n",
      "  3.75931412e-02 -2.37923801e-01 -2.07973063e-01 -7.89173543e-02\n",
      "  5.89370653e-02  4.69714124e-03 -7.64092654e-02  1.42561913e-01\n",
      " -1.27628416e-01 -3.63910496e-02  2.02552915e-01 -4.31618616e-02\n",
      "  1.44855887e-01 -1.70176476e-02  5.86494915e-02  3.32300752e-01\n",
      " -1.54945210e-01  4.69124019e-02  4.70675379e-02 -2.11979672e-01\n",
      " -1.89019933e-01 -2.21344978e-01  1.75375745e-01  3.15809429e-01\n",
      "  2.72345659e-03 -1.68898523e-01 -1.83003582e-03 -3.25326383e-01\n",
      " -4.56147641e-02 -7.34975338e-02 -2.52320543e-02  3.75431389e-01\n",
      " -2.27939896e-02 -1.47888819e-02 -4.32996079e-03  1.27648771e-01\n",
      " -1.95079986e-02 -1.31088972e-01 -1.42851904e-01  1.84039757e-01\n",
      " -1.24594457e-01 -1.24114446e-01  5.05690396e-01 -9.47266668e-02\n",
      "  1.83006927e-01 -5.56466207e-02  8.30094665e-02 -8.53047967e-02\n",
      " -1.02178268e-01 -2.92093992e-01  6.17493927e-01 -3.05579770e-02\n",
      " -3.35300475e-01  1.18395075e-01  1.35116905e-01 -1.83858082e-01\n",
      "  2.13638112e-01  2.05238059e-01 -1.54698253e-01  1.44735739e-01\n",
      " -3.97512555e-01  1.30018085e-01  6.30041119e-03  6.43715337e-02\n",
      " -2.85542995e-01  3.40356827e-01  4.62373197e-02 -1.67919040e-01\n",
      " -3.23230445e-01 -3.52741241e-01 -7.54653588e-02  2.45975703e-02\n",
      "  9.48340222e-02  3.26101363e-01  5.55640608e-02  3.12311482e-02\n",
      "  1.70412213e-01 -4.65828329e-02  1.74793303e-02 -1.71466663e-01\n",
      "  3.11414748e-01  1.84753492e-01  3.71372640e-01 -1.12044513e-01\n",
      " -8.18012804e-02 -9.95086730e-02  7.60778487e-02 -2.07369149e-01\n",
      " -1.47477016e-01 -1.31851763e-01  4.36063670e-02  3.05424724e-02\n",
      "  1.95012912e-01  2.84719449e-02  3.81391905e-02  8.12964067e-02\n",
      " -4.51549768e-01  1.77858785e-01 -2.81276017e-01 -4.76854518e-02\n",
      "  1.43086627e-01  1.17206700e-01 -6.89304434e-03  6.05406389e-02\n",
      "  1.43313959e-01  1.92891583e-01 -2.20944975e-02  1.11640476e-01\n",
      " -2.08366007e-01 -1.43691031e-02  5.93370348e-02  6.80493042e-02\n",
      " -6.19145855e-02  1.29577160e-01  1.50531679e-01  6.99227583e-03\n",
      " -2.09432721e-01  3.92425898e-03  1.69258595e-01  1.09950930e-01\n",
      "  1.36694044e-01  2.34808892e-01  8.43976736e-02 -9.97582376e-02\n",
      " -3.03307980e-01 -3.87260944e-01  1.71513081e-01 -1.91417843e-01\n",
      "  3.18204015e-01 -1.00479580e-01  1.25834107e-01 -1.66655518e-03\n",
      " -3.83232795e-02  9.35148746e-02 -1.25050977e-01 -1.28303468e-01\n",
      " -1.00073069e-01  2.65933484e-01 -1.29915178e-01 -3.34022939e-03\n",
      " -1.19705297e-01 -6.90140799e-02 -1.60213262e-01 -2.52363011e-02\n",
      "  1.84442014e-01  5.09411395e-02 -3.05280864e-01 -2.44943485e-01\n",
      " -1.24459960e-01 -2.38559768e-01  1.30215496e-01  3.43891419e-02\n",
      " -1.96056187e-01 -3.51520270e-01 -3.03700984e-01  3.25810641e-01\n",
      " -1.09510198e-01  2.50396639e-01  2.00416863e-01 -4.18682732e-02\n",
      " -9.14932042e-02  1.34664863e-01 -4.60512936e-01  1.03219479e-01\n",
      "  7.74034485e-03 -2.76288092e-01  2.63371944e-01 -3.12546700e-01\n",
      "  2.17206210e-01  2.14854762e-01  5.66678941e-02 -5.56862354e-02\n",
      " -1.15498684e-01  3.61905783e-01 -6.44352362e-02  1.26861081e-01\n",
      " -1.09310392e-02  5.68934232e-02  2.08653927e-01 -4.20494527e-02\n",
      " -1.05740197e-01  3.50454211e-01 -1.80133209e-02  3.80845666e-01\n",
      "  5.45106493e-02 -4.02347237e-01 -1.33824065e-01 -1.95902452e-01\n",
      " -6.24814779e-02 -8.01208168e-02 -2.31117174e-01  2.24044368e-01\n",
      " -4.45104241e-02  4.03546281e-02  3.40629295e-02 -8.83656964e-02\n",
      "  3.11983824e-01  5.51660955e-02 -1.79805517e-01  2.52615251e-02\n",
      " -4.28235643e-02 -2.78035551e-02 -1.03276961e-01  9.51064229e-02\n",
      "  4.91142809e-01  1.36289895e-02  8.21949691e-02 -1.30064756e-01\n",
      " -2.80076623e-01 -1.40748233e-01  5.29064089e-02 -2.14557245e-01\n",
      "  2.35842586e-01 -1.06860548e-01  2.72967428e-01 -8.34747255e-02\n",
      " -3.47520649e-01 -1.84060231e-01 -3.35587204e-01  1.90906838e-01\n",
      " -5.68289645e-02  2.76830703e-01  1.60133198e-01 -1.09516606e-01\n",
      "  2.11607024e-01  3.48027557e-01 -2.32529312e-01  5.47301397e-02\n",
      "  9.16918740e-03 -1.55344754e-01 -1.11258291e-01 -5.81605397e-02\n",
      "  2.30837226e-01  8.30039084e-02 -1.10972144e-01 -1.69247687e-01\n",
      " -2.09846944e-01  2.29074985e-01  1.39868349e-01  1.28711656e-01\n",
      " -1.22444190e-01  1.50308132e-01 -5.51755205e-02 -2.68677294e-01\n",
      "  2.54462995e-02  1.59699455e-01  5.06307594e-02 -1.17953815e-01\n",
      "  1.72671333e-01  6.11557849e-02  5.22790756e-03  1.31197676e-01\n",
      " -2.31824771e-01 -7.20863864e-02 -5.03838528e-04 -1.39269726e-02\n",
      " -8.61425772e-02  1.91343382e-01  5.30663282e-02  9.29722339e-02\n",
      " -2.11838201e-01 -1.13457739e-01  1.63851097e-01 -1.15494274e-01\n",
      "  1.67944342e-01  2.90623575e-01  1.25769898e-01 -5.11618137e-01\n",
      " -1.00268364e-01  3.08038741e-01  1.75239801e-01  1.02026664e-01\n",
      "  2.15102240e-01 -1.83044940e-01  4.15736474e-02  8.12043846e-02\n",
      " -3.14846128e-01 -6.94854259e-02  3.36838886e-03  8.70215222e-02\n",
      " -1.26951039e-01 -1.56070456e-01  3.24720144e-01 -2.11620823e-01\n",
      "  1.51045516e-01  1.54832512e-01  1.10660218e-01  1.76613092e-01\n",
      "  1.66527584e-01 -2.10264623e-02  1.01046421e-01  1.06206849e-01\n",
      " -1.45727605e-01  3.73547673e-01 -3.08071524e-02  4.94679995e-02\n",
      " -2.00225785e-01  2.62789249e-01  1.08973980e-01 -1.27157718e-01\n",
      "  1.12033822e-03 -1.49201408e-01 -8.51842016e-03  1.10424384e-01\n",
      "  3.03530455e-01  9.38702561e-03 -1.19505234e-01  2.56378651e-02]\n"
     ]
    }
   ],
   "source": [
    "\n",
    "\n",
    "from sentence_transformers import SentenceTransformer\n",
    "\n",
    "# Modelo multilingüe que soporta español\n",
    "model = SentenceTransformer('sentence-transformers/paraphrase-multilingual-MiniLM-L12-v2')\n",
    "\n",
    "comentarios = [\n",
    "    \"Me gustó mucho el producto\",\n",
    "    \"No volvería a comprar aquí\"\n",
    "]\n",
    "\n",
    "embeddings = model.encode(comentarios)\n",
    "\n",
    "print(embeddings.shape)  # (2, 384)\n",
    "print(embeddings[0])     # Vector del primer comentario\n"
   ]
  },
  {
   "cell_type": "markdown",
   "id": "909e2169",
   "metadata": {},
   "source": [
    "Iteramos sobre cada comentarios para guardar el embedding"
   ]
  },
  {
   "cell_type": "code",
   "execution_count": null,
   "id": "75252837",
   "metadata": {},
   "outputs": [],
   "source": [
    "df[\"Embedding\"] = None  # crea la columna vacía\n"
   ]
  },
  {
   "cell_type": "code",
   "execution_count": null,
   "id": "8b8032ba",
   "metadata": {},
   "outputs": [
    {
     "name": "stdout",
     "output_type": "stream",
     "text": [
      "Processed comment 1/109: Labure en un equipo de DS como...\n",
      "Processed comment 2/109: ![gif](giphy|xT5LMuQroxQi36Hwy...\n",
      "Processed comment 4/109: Puro humo. El jefe de la parte...\n",
      "Processed comment 17/109: Hola, yo quiero estudiar para ...\n",
      "Processed comment 20/109: Ya empezaron pero primero con ...\n",
      "Processed comment 29/109: estudiar online es una paja, n...\n",
      "Processed comment 32/109: Hágalo en la Chile par que sea...\n",
      "Processed comment 35/109: Y que magister tienes tu? dond...\n",
      "Processed comment 36/109: Hay certificaciones de Data Sc...\n",
      "Processed comment 39/109: Que carrera estudiaste?. Que e...\n",
      "Processed comment 42/109: El movimiento siempre será mej...\n",
      "Processed comment 51/109: Es mejor moverte a algo más de...\n",
      "Processed comment 57/109: Y los alemantes se movieron. V...\n",
      "Processed comment 58/109: Creo lo mismo y siento que pue...\n",
      "Processed comment 60/109: ¿Ambientales? ¿De qué se trata...\n",
      "Processed comment 64/109: Y no has pensado en cambiar de...\n",
      "Processed comment 65/109: Ser jefe no es para cualquiera...\n",
      "Processed comment 67/109: No me lo había plateado, pero ...\n",
      "Processed comment 71/109: Siempre esta el loco que relac...\n",
      "Processed comment 72/109: ¿Robótica? Me interesa eso. Qu...\n",
      "Processed comment 73/109: Estamos ante la antesala de un...\n",
      "Processed comment 74/109: Creo que quizás pueda ser buen...\n",
      "Processed comment 80/109: Soy ingeniero de datos y todav...\n",
      "Processed comment 83/109: Si hay alguna mención en Machi...\n",
      "Processed comment 86/109: Te recomiendo meterte en ingen...\n",
      "Processed comment 89/109: En regiones gralmente es difíc...\n",
      "Processed comment 90/109: Regiones no hay nada. Incluso ...\n",
      "Processed comment 93/109: De hecho hace unos pocos meses...\n",
      "Processed comment 117/109: Gracias, los tomaré en conside...\n",
      "Processed comment 123/109: Si me pagan bien por ello no m...\n",
      "Processed comment 127/109: Huevos no. Si no tienes cabeza...\n",
      "Processed comment 128/109: Depende que tan rico se mueva ...\n",
      "Processed comment 135/109: No es imposible pero si uno se...\n",
      "Processed comment 137/109: Buena base matemática y estadi...\n",
      "Processed comment 141/109: Son 5 años de carrera + la exp...\n",
      "Processed comment 145/109: Depende el laburo, en algunos ...\n",
      "Processed comment 148/109: Éxitos bro. Aprende estadístic...\n",
      "Processed comment 150/109: gracias!!!!!!!!!!!!!!!!!!!!!!!...\n",
      "Processed comment 151/109: Alguien que haya hecho la tecn...\n",
      "Processed comment 153/109: Muy buen aporte, estimado anón...\n",
      "Processed comment 156/109: Tome su upvote buen rediturr@ ...\n",
      "Processed comment 159/109: Empiezo desde cero, no tengo i...\n",
      "Processed comment 161/109: Gratis? y si no, cuanto cobras...\n",
      "Processed comment 165/109: hola sos de argentina? te pued...\n",
      "Processed comment 166/109: Claro, me refiero mas bien a n...\n",
      "Processed comment 171/109: No te metas ahí. Busca primero...\n",
      "Processed comment 179/109: Sip. Poca porgramacion, mucha ...\n",
      "Processed comment 186/109: Te lo agradezco, hermano. Esto...\n",
      "Processed comment 192/109: Entre 50 y 100 que? Dolares, e...\n",
      "Processed comment 195/109: Me alegro que te sirvan, suert...\n",
      "Processed comment 200/109: Euros o dólares https://www.co...\n",
      "Processed comment 203/109: Ah claro, conocimiento de prog...\n",
      "Processed comment 207/109: Pulenta, pero te va tocar espe...\n",
      "Processed comment 208/109: Está en crecimiento, pero hay ...\n",
      "Processed comment 209/109: Harto chanta que dice saber ci...\n",
      "Processed comment 210/109: Trabajo como científico de dat...\n",
      "Processed comment 214/109: Podrías hacer uno para ing. Da...\n",
      "Processed comment 216/109: Hola, solo analizas mercado IT...\n",
      "Processed comment 217/109: Hermano, este comentario lo ve...\n",
      "Processed comment 222/109: Qué carrera estudiaste? tienes...\n",
      "Processed comment 241/109: Antes veía mucho post de front...\n",
      "Processed comment 242/109: Ciencia de datos es estadístic...\n",
      "Processed comment 245/109: Yo opino que la ciencia y la m...\n",
      "Processed comment 248/109: Hay una carrera de estadística...\n",
      "Processed comment 258/109: Diria que es una de las cosas ...\n",
      "Processed comment 261/109: no es una moda y no tiene nada...\n",
      "Processed comment 262/109: No «es» una mada, FUE una moda...\n",
      "Processed comment 264/109: Un científico de datos te pued...\n",
      "Processed comment 267/109: Desde el 2015 recuerdo que vie...\n",
      "Processed comment 268/109: ciencia de data es el futuro,e...\n",
      "Processed comment 270/109: Todo es una moda dentro del de...\n",
      "Processed comment 275/109: Hola para la especialización p...\n",
      "Processed comment 281/109: no le preguntes a un peluquero...\n",
      "Processed comment 283/109: No. En data mining se generan ...\n",
      "Processed comment 284/109: La ciencia no tiene enemigos.....\n",
      "Processed comment 286/109: Si con python te quedas corto ...\n",
      "Processed comment 287/109: Que ridiculez pensar en usar r...\n",
      "Processed comment 289/109: Y porque no utilizar C++ direc...\n",
      "Processed comment 291/109: En algunos países existe la in...\n",
      "Processed comment 294/109: ¿Cuál sería el camino difícil ...\n",
      "Processed comment 298/109: Evidentemente con un curso de ...\n",
      "Processed comment 302/109: Eso también es estadística. Qu...\n",
      "Processed comment 303/109: Supongo que habrá querido deci...\n",
      "Processed comment 309/109: Claramente hacia ahi vamos, en...\n",
      "Processed comment 313/109: Soy doctorando en ciencia de d...\n",
      "Processed comment 314/109: Tu xd me hace desconfiar de la...\n",
      "Processed comment 316/109: Así es, yo también utilizo Pyt...\n",
      "Processed comment 323/109: A sería literalmente la carrer...\n",
      "Processed comment 332/109: Sabiendo inglés y estadística ...\n",
      "Processed comment 333/109: El mayor obstáculo es que si o...\n",
      "Processed comment 336/109: Si pero necesitas ocupas amar ...\n",
      "Processed comment 337/109: Qué lenguaje de programación r...\n",
      "Processed comment 347/109: Qué fue lo que te llamó la ate...\n",
      "Processed comment 348/109: Tamos full llenos pa siga con ...\n",
      "Processed comment 350/109: Depende el país... hay univers...\n",
      "Processed comment 353/109: Cómo BIt data analista coincid...\n",
      "Processed comment 360/109: No me tienen harto esta invasi...\n",
      "Processed comment 361/109: Pero el flaco ni empezo jsjsjs...\n",
      "Processed comment 362/109: Yo no tuve infancia, naci gran...\n",
      "Processed comment 363/109: La ciencia de datos ayuda a de...\n",
      "Processed comment 364/109: Las empresas usan ciencia de d...\n",
      "Processed comment 365/109: La ciencia de datos mejora la ...\n",
      "Processed comment 366/109: El análisis de datos permite p...\n",
      "Processed comment 367/109: La ciencia de datos impulsa la...\n",
      "Processed comment 368/109: El auge de la IA hará que much...\n",
      "Processed comment 369/109: Demasiadas personas estudian c...\n",
      "Processed comment 370/109: Herramientas no-code reducen l...\n",
      "Processed comment 371/109: El valor de la ciencia de dato...\n",
      "Processed comment 372/109: Pronto, la automatización hará...\n"
     ]
    }
   ],
   "source": [
    "for idx, row in df.iterrows():\n",
    "    comentario = row['Comments']\n",
    "    curr_embedding = model.encode([comentario])[0]\n",
    "    df.at[idx, 'Embedding'] = curr_embedding.tolist()\n",
    "\n",
    "    print(f\"Processed comment {idx + 1}/{len(df)}: {comentario[:30]}...\")  # Print first 30 characters"
   ]
  },
  {
   "cell_type": "markdown",
   "id": "5d7484b1",
   "metadata": {},
   "source": [
    "Ya tenemos nuestros embeddings"
   ]
  },
  {
   "cell_type": "code",
   "execution_count": null,
   "id": "5724bbcc",
   "metadata": {},
   "outputs": [
    {
     "data": {
      "text/html": [
       "<div>\n",
       "<style scoped>\n",
       "    .dataframe tbody tr th:only-of-type {\n",
       "        vertical-align: middle;\n",
       "    }\n",
       "\n",
       "    .dataframe tbody tr th {\n",
       "        vertical-align: top;\n",
       "    }\n",
       "\n",
       "    .dataframe thead th {\n",
       "        text-align: right;\n",
       "    }\n",
       "</style>\n",
       "<table border=\"1\" class=\"dataframe\">\n",
       "  <thead>\n",
       "    <tr style=\"text-align: right;\">\n",
       "      <th></th>\n",
       "      <th>Comments</th>\n",
       "      <th>Embedding</th>\n",
       "    </tr>\n",
       "  </thead>\n",
       "  <tbody>\n",
       "    <tr>\n",
       "      <th>0</th>\n",
       "      <td>Labure en un equipo de DS como monito programador, los DS todos tenian phd, es puro humo el resto.</td>\n",
       "      <td>[-0.20420339703559875, 0.039422813802957535, -0.010456813499331474, -0.1817580610513687, -0.01499317865818739, -0.22665497660636902, 0.08369499444961548, 0.08292263746261597, 0.25175344944000244, -0.18987491726875305, 0.05472521111369133, 0.29699358344078064, 0.07737835496664047, -0.2547129988670349, -0.1469792276620865, -0.07385922968387604, 0.0655476525425911, -0.05980424955487251, -0.05185011029243469, -0.1094689592719078, -0.02110404334962368, -0.23636575043201447, -0.31999069452285767, 0.017434749752283096, 0.021815085783600807, 0.2621171474456787, 0.029659627005457878, -0.04799832031130791, 0.11329011619091034, -0.2643670439720154, 0.0627707988023758, 0.310327410697937, 0.060542650520801544, 0.13438451290130615, 0.07598179578781128, -0.22881899774074554, 0.008829232305288315, 0.14024421572685242, -0.30998924374580383, -0.18158605694770813, 0.004468432627618313, -0.006955587305128574, 0.0287681482732296, -0.15403051674365997, -0.09488362818956375, -0.08381126075983047, -0.30354616045951843, -0.19230331480503082, -0.05937797203660011, -0.12650640308856964, -0.006565390154719353, 0.14359770715236664, 0.13172641396522522, 0.1092609092593193, 0.07762622088193893, -0.15293677151203156, 0.12282568961381912, 0.11107207834720612, -0.056941572576761246, 0.09396196156740189, -0.2678026556968689, 0.04478342831134796, -0.17402581870555878, 0.19695095717906952, 0.21904949843883514, -0.0014247775543481112, 0.20573967695236206, -0.044719792902469635, -0.02181554213166237, 0.1368524730205536, -0.23555292189121246, 0.07995373755693436, -0.006126860156655312, 0.07138043642044067, 0.09864293038845062, 0.40175220370292664, -0.04602859169244766, -0.241134911775589, 0.5095840096473694, -0.06668111681938171, 0.1841345727443695, -0.11068927496671677, -0.1900240182876587, 0.3666459918022156, 0.18313366174697876, -0.03817255049943924, 0.09347336739301682, -0.20514008402824402, 0.1634065955877304, -0.12238728255033493, -0.26744192838668823, -0.16394522786140442, 0.09791413694620132, 0.015320541337132454, -0.059590935707092285, -0.07958245277404785, 0.10568742454051971, -0.004074249882251024, 0.04350415617227554, 0.040364041924476624, ...]</td>\n",
       "    </tr>\n",
       "    <tr>\n",
       "      <th>1</th>\n",
       "      <td>![gif](giphy|xT5LMuQroxQi36Hwys|downsized)</td>\n",
       "      <td>[-0.3553767502307892, 0.07863187044858932, 0.11600862443447113, 0.1253068596124649, -0.1361624300479889, -0.027173716574907303, 0.3976496458053589, 0.16783811151981354, -0.1301703006029129, -0.058908313512802124, -0.1263936460018158, -0.09437287598848343, 0.30437812209129333, 0.08984075486660004, -0.003100091591477394, -0.3158446252346039, -0.35880300402641296, 0.2764183580875397, -0.14710702002048492, -0.1570066511631012, -0.11155741661787033, -0.27949365973472595, -0.22368969023227692, 0.22438105940818787, 0.28765782713890076, 0.10052959620952606, -0.37616249918937683, -0.12391623109579086, 0.010339001193642616, -0.2836134135723114, 0.0333850122988224, 0.3999183773994446, 0.23839859664440155, 0.10162974894046783, 0.09139969199895859, -0.056462712585926056, -0.222804456949234, -0.15892146527767181, -0.32783305644989014, 0.07911188900470734, -0.28689834475517273, 0.27541103959083557, 0.14184829592704773, 0.13716892898082733, 0.2658180892467499, -0.21656109392642975, -0.018041666597127914, 0.021545369178056717, 8.087939204415306e-05, 0.15365569293498993, -0.09644071012735367, 0.112451933324337, -0.34845635294914246, 0.25964057445526123, 0.03948572650551796, -0.14372363686561584, 0.013631650246679783, -0.11649011820554733, -0.08979557454586029, 0.104786217212677, 0.3278670608997345, 0.11899921298027039, -0.3821140229701996, -0.056584786623716354, 0.20803585648536682, 0.012231734581291676, 0.30742886662483215, -0.13868170976638794, 0.267630010843277, 0.3473479151725769, -0.13352124392986298, -0.029108624905347824, 0.11190087348222733, -0.15121354162693024, 0.24636273086071014, -0.16840973496437073, 0.026573579758405685, 0.2861793339252472, -0.02582303062081337, -0.10936309397220612, 0.37130576372146606, 0.06034426763653755, -0.0757952407002449, 0.008343838155269623, 0.15958860516548157, 0.06848204880952835, -0.13246861100196838, -0.12442447990179062, 0.05542118847370148, 0.00594845088198781, 0.4525909423828125, -0.2538700997829437, -0.11394692957401276, 0.15252047777175903, -0.10694240033626556, -0.09101435542106628, 0.015443084761500359, -0.22154971957206726, 0.12158481031656265, 0.7718481421470642, ...]</td>\n",
       "    </tr>\n",
       "    <tr>\n",
       "      <th>3</th>\n",
       "      <td>Puro humo. El jefe de la parte de datos de la empresa tiene un doctorado en estadística y es ingeniero en sistemas.</td>\n",
       "      <td>[-0.08595969527959824, 0.30381423234939575, -0.10487919300794601, -0.1435793936252594, 0.002543877577409148, -0.21347138285636902, 0.02268383651971817, 0.10465555638074875, 0.23645909130573273, 0.1873491406440735, -0.18809838593006134, -0.08632678538560867, 0.1550956666469574, -0.32874739170074463, -0.3313983082771301, 0.02696801722049713, -0.04628271982073784, 0.1264098435640335, 0.28178566694259644, -0.21674634516239166, -0.07282809168100357, -0.16104646027088165, -0.14160196483135223, -0.4587743282318115, 0.12069320678710938, -0.03966250270605087, 0.0072189876809716225, -0.16432374715805054, -0.07923918217420578, -0.09559887647628784, 0.10489997267723083, 0.047065768390893936, 0.1694549322128296, 0.15332618355751038, -0.21080726385116577, 0.12325597554445267, 0.012810626067221165, 0.17005306482315063, 0.10656570643186569, 0.13518519699573517, 0.13150015473365784, -0.2478695809841156, 0.04975509271025658, 0.03763167932629585, 0.0020068383309990168, -0.06768885999917984, -0.052416812628507614, -0.3388117253780365, -0.26169711351394653, -0.18092887103557587, -0.4411790370941162, -0.2453647404909134, 0.10910217463970184, -0.030819768086075783, -0.033149074763059616, 0.226035013794899, 0.4131341278553009, 0.1363438218832016, 0.04114857688546181, -0.305375874042511, -0.14904773235321045, 0.06736110895872116, -0.10139551013708115, -0.08682166039943695, 0.15946830809116364, -0.06714016944169998, -0.048233143985271454, 0.046558015048503876, -0.13434602320194244, -0.046299777925014496, 0.06298251450061798, -0.2528533339500427, -0.15312343835830688, 0.1714029461145401, -0.05782309174537659, 0.037685465067625046, -0.061080869287252426, 0.20365701615810394, 0.376887708902359, 0.08216533064842224, 0.16909204423427582, 0.01545812003314495, -0.1837882101535797, 0.07173532992601395, -0.16956092417240143, 0.23673060536384583, 0.11069586127996445, 0.07672407478094101, 0.09679028391838074, 0.05458779260516167, 0.38125696778297424, -0.03660423308610916, 0.13701657950878143, -0.2821088135242462, 0.0019515445455908775, 0.2823639512062073, -0.11157267540693283, 0.054524194449186325, 0.051867321133613586, 0.03925705701112747, ...]</td>\n",
       "    </tr>\n",
       "    <tr>\n",
       "      <th>16</th>\n",
       "      <td>Hola, yo quiero estudiar para dedicarme a eso y encontré una licenciatura. Te puedo mandar dm?</td>\n",
       "      <td>[0.17356373369693756, 0.21600715816020966, 0.1487715095281601, 0.0991443544626236, -0.05500764027237892, -0.14483053982257843, -0.047977183014154434, 0.04020474851131439, -0.10685673356056213, 0.09362457692623138, -0.07375311851501465, -0.19295340776443481, -0.21159212291240692, -0.05858619511127472, 0.08021827787160873, 0.10846220701932907, -0.03515002503991127, -0.04146392643451691, 0.13905565440654755, -0.009824562817811966, -0.08920756727457047, 0.18892017006874084, 0.11638902872800827, -0.09693719446659088, 0.01724965125322342, -0.0646156445145607, 0.14350393414497375, -0.055740080773830414, -0.017951730638742447, -0.22277861833572388, -0.04700290784239769, -0.004818952642381191, 0.0935172364115715, 0.13734105229377747, -0.14466184377670288, 0.28909873962402344, -0.055347781628370285, 0.0245668888092041, 0.14875419437885284, 0.05798979848623276, 0.1445891559123993, -0.11545724421739578, 0.21235188841819763, 0.16487830877304077, 0.06822207570075989, -0.15010058879852295, -0.029386378824710846, -0.017012901604175568, 0.014033217914402485, -0.018443377688527107, -0.13453146815299988, -0.10270614176988602, -0.13766786456108093, 0.07653485983610153, 0.04898068681359291, 0.14268113672733307, 0.19108659029006958, 0.19845885038375854, -0.05283685401082039, 0.15482363104820251, -0.1877078115940094, 0.11580575257539749, -0.1263110488653183, 0.18138346076011658, -0.15988709032535553, -0.18258149921894073, -0.1060563251376152, 0.23042139410972595, -0.08828617632389069, 0.03661467134952545, -0.17774233222007751, -0.11916666477918625, -0.24747334420681, 0.29915446043014526, 0.18373261392116547, -0.002424714621156454, 0.022487524896860123, 0.07607526332139969, 0.24862630665302277, 0.08521183580160141, 0.10710453242063522, 0.05771438032388687, -0.09017039835453033, -0.06177239120006561, -0.02078516036272049, 0.12289058417081833, -0.09465707093477249, 0.3122539520263672, -0.03452209755778313, -0.07360018044710159, 0.1580105870962143, -0.2632480561733246, -0.18481236696243286, -0.11772867292165756, 0.03545527160167694, -0.09468301385641098, 0.09122546017169952, -0.24933753907680511, 0.07135744392871857, 0.1229221448302269, ...]</td>\n",
       "    </tr>\n",
       "    <tr>\n",
       "      <th>19</th>\n",
       "      <td>Ya empezaron pero primero con cursos.</td>\n",
       "      <td>[0.21498265862464905, -0.1338140070438385, -0.15241089463233948, 0.018481090664863586, -0.1721130907535553, 0.14696621894836426, -0.534835159778595, 0.07425738126039505, -0.01979743130505085, 0.24081525206565857, 0.012851404026150703, 0.4456937909126282, -0.04653630405664444, 0.28415051102638245, -0.1537528783082962, 0.048802535980939865, -0.13010302186012268, -0.38002312183380127, 0.05125071480870247, -0.16590723395347595, -0.2238708734512329, -0.17631617188453674, 0.13268138468265533, 0.10402385890483856, 0.43373140692710876, -0.11343739181756973, 0.266367107629776, -0.18176645040512085, 0.36818987131118774, -0.27978116273880005, -0.29986026883125305, -0.11524045467376709, 0.37736737728118896, 0.16705676913261414, -0.28707557916641235, 0.41835981607437134, 0.12364748865365982, 0.2206157147884369, -0.25064775347709656, 0.14350898563861847, 0.23864500224590302, -0.14503507316112518, 0.06765048205852509, 0.42712506651878357, 0.24761590361595154, -0.06591501086950302, 0.045373279601335526, -0.0026523596607148647, 0.05938880518078804, -0.2916160821914673, 0.06275871396064758, -0.11321983486413956, -0.005614741239696741, -0.34052449464797974, -0.06615789234638214, -0.009797804057598114, 0.15912991762161255, 0.04972008615732193, -0.19506575167179108, 0.2193414866924286, -0.379094660282135, -0.1198621392250061, -0.19109241664409637, 0.33293214440345764, -0.07729998230934143, 0.024731963872909546, 0.07032911479473114, 0.1503603756427765, 0.10985486209392548, 0.32244572043418884, -0.3808441758155823, -0.128275528550148, 0.1115277037024498, 0.09209723770618439, 0.006464316509664059, 0.4803921580314636, 0.31034889817237854, 0.10430793464183807, 0.2768212556838989, -0.19822850823402405, 0.019672315567731857, -0.20318853855133057, 0.22673971951007843, 0.27649328112602234, -0.11020563542842865, 0.024312783032655716, -0.08075201511383057, -0.08306858688592911, -0.28110644221305847, -0.21504783630371094, 0.27932009100914, -0.5578088760375977, -0.12498092651367188, 0.07578401267528534, -0.08619102090597153, 0.06649793684482574, 0.015399143099784851, -0.022996902465820312, 0.2939881384372711, 0.07195742428302765, ...]</td>\n",
       "    </tr>\n",
       "  </tbody>\n",
       "</table>\n",
       "</div>"
      ],
      "text/plain": [
       "                                                                                                               Comments  \\\n",
       "0                    Labure en un equipo de DS como monito programador, los DS todos tenian phd, es puro humo el resto.   \n",
       "1                                                                            ![gif](giphy|xT5LMuQroxQi36Hwys|downsized)   \n",
       "3   Puro humo. El jefe de la parte de datos de la empresa tiene un doctorado en estadística y es ingeniero en sistemas.   \n",
       "16                       Hola, yo quiero estudiar para dedicarme a eso y encontré una licenciatura. Te puedo mandar dm?   \n",
       "19                                                                                Ya empezaron pero primero con cursos.   \n",
       "\n",
       "                                                                                                                                                                                                                                                                                                                                                                                                                                                                                                                                                                                                                                                                                                                                                                                                                                                                                                                                                                                                                                                                                                                                                                                                                                                                                                                                                                                                                                                                                                                                                                                                                                                                                                                                                                                                                                                                                                                                                                                                                                                                                                                                                                                                                                     Embedding  \n",
       "0   [-0.20420339703559875, 0.039422813802957535, -0.010456813499331474, -0.1817580610513687, -0.01499317865818739, -0.22665497660636902, 0.08369499444961548, 0.08292263746261597, 0.25175344944000244, -0.18987491726875305, 0.05472521111369133, 0.29699358344078064, 0.07737835496664047, -0.2547129988670349, -0.1469792276620865, -0.07385922968387604, 0.0655476525425911, -0.05980424955487251, -0.05185011029243469, -0.1094689592719078, -0.02110404334962368, -0.23636575043201447, -0.31999069452285767, 0.017434749752283096, 0.021815085783600807, 0.2621171474456787, 0.029659627005457878, -0.04799832031130791, 0.11329011619091034, -0.2643670439720154, 0.0627707988023758, 0.310327410697937, 0.060542650520801544, 0.13438451290130615, 0.07598179578781128, -0.22881899774074554, 0.008829232305288315, 0.14024421572685242, -0.30998924374580383, -0.18158605694770813, 0.004468432627618313, -0.006955587305128574, 0.0287681482732296, -0.15403051674365997, -0.09488362818956375, -0.08381126075983047, -0.30354616045951843, -0.19230331480503082, -0.05937797203660011, -0.12650640308856964, -0.006565390154719353, 0.14359770715236664, 0.13172641396522522, 0.1092609092593193, 0.07762622088193893, -0.15293677151203156, 0.12282568961381912, 0.11107207834720612, -0.056941572576761246, 0.09396196156740189, -0.2678026556968689, 0.04478342831134796, -0.17402581870555878, 0.19695095717906952, 0.21904949843883514, -0.0014247775543481112, 0.20573967695236206, -0.044719792902469635, -0.02181554213166237, 0.1368524730205536, -0.23555292189121246, 0.07995373755693436, -0.006126860156655312, 0.07138043642044067, 0.09864293038845062, 0.40175220370292664, -0.04602859169244766, -0.241134911775589, 0.5095840096473694, -0.06668111681938171, 0.1841345727443695, -0.11068927496671677, -0.1900240182876587, 0.3666459918022156, 0.18313366174697876, -0.03817255049943924, 0.09347336739301682, -0.20514008402824402, 0.1634065955877304, -0.12238728255033493, -0.26744192838668823, -0.16394522786140442, 0.09791413694620132, 0.015320541337132454, -0.059590935707092285, -0.07958245277404785, 0.10568742454051971, -0.004074249882251024, 0.04350415617227554, 0.040364041924476624, ...]  \n",
       "1                  [-0.3553767502307892, 0.07863187044858932, 0.11600862443447113, 0.1253068596124649, -0.1361624300479889, -0.027173716574907303, 0.3976496458053589, 0.16783811151981354, -0.1301703006029129, -0.058908313512802124, -0.1263936460018158, -0.09437287598848343, 0.30437812209129333, 0.08984075486660004, -0.003100091591477394, -0.3158446252346039, -0.35880300402641296, 0.2764183580875397, -0.14710702002048492, -0.1570066511631012, -0.11155741661787033, -0.27949365973472595, -0.22368969023227692, 0.22438105940818787, 0.28765782713890076, 0.10052959620952606, -0.37616249918937683, -0.12391623109579086, 0.010339001193642616, -0.2836134135723114, 0.0333850122988224, 0.3999183773994446, 0.23839859664440155, 0.10162974894046783, 0.09139969199895859, -0.056462712585926056, -0.222804456949234, -0.15892146527767181, -0.32783305644989014, 0.07911188900470734, -0.28689834475517273, 0.27541103959083557, 0.14184829592704773, 0.13716892898082733, 0.2658180892467499, -0.21656109392642975, -0.018041666597127914, 0.021545369178056717, 8.087939204415306e-05, 0.15365569293498993, -0.09644071012735367, 0.112451933324337, -0.34845635294914246, 0.25964057445526123, 0.03948572650551796, -0.14372363686561584, 0.013631650246679783, -0.11649011820554733, -0.08979557454586029, 0.104786217212677, 0.3278670608997345, 0.11899921298027039, -0.3821140229701996, -0.056584786623716354, 0.20803585648536682, 0.012231734581291676, 0.30742886662483215, -0.13868170976638794, 0.267630010843277, 0.3473479151725769, -0.13352124392986298, -0.029108624905347824, 0.11190087348222733, -0.15121354162693024, 0.24636273086071014, -0.16840973496437073, 0.026573579758405685, 0.2861793339252472, -0.02582303062081337, -0.10936309397220612, 0.37130576372146606, 0.06034426763653755, -0.0757952407002449, 0.008343838155269623, 0.15958860516548157, 0.06848204880952835, -0.13246861100196838, -0.12442447990179062, 0.05542118847370148, 0.00594845088198781, 0.4525909423828125, -0.2538700997829437, -0.11394692957401276, 0.15252047777175903, -0.10694240033626556, -0.09101435542106628, 0.015443084761500359, -0.22154971957206726, 0.12158481031656265, 0.7718481421470642, ...]  \n",
       "3           [-0.08595969527959824, 0.30381423234939575, -0.10487919300794601, -0.1435793936252594, 0.002543877577409148, -0.21347138285636902, 0.02268383651971817, 0.10465555638074875, 0.23645909130573273, 0.1873491406440735, -0.18809838593006134, -0.08632678538560867, 0.1550956666469574, -0.32874739170074463, -0.3313983082771301, 0.02696801722049713, -0.04628271982073784, 0.1264098435640335, 0.28178566694259644, -0.21674634516239166, -0.07282809168100357, -0.16104646027088165, -0.14160196483135223, -0.4587743282318115, 0.12069320678710938, -0.03966250270605087, 0.0072189876809716225, -0.16432374715805054, -0.07923918217420578, -0.09559887647628784, 0.10489997267723083, 0.047065768390893936, 0.1694549322128296, 0.15332618355751038, -0.21080726385116577, 0.12325597554445267, 0.012810626067221165, 0.17005306482315063, 0.10656570643186569, 0.13518519699573517, 0.13150015473365784, -0.2478695809841156, 0.04975509271025658, 0.03763167932629585, 0.0020068383309990168, -0.06768885999917984, -0.052416812628507614, -0.3388117253780365, -0.26169711351394653, -0.18092887103557587, -0.4411790370941162, -0.2453647404909134, 0.10910217463970184, -0.030819768086075783, -0.033149074763059616, 0.226035013794899, 0.4131341278553009, 0.1363438218832016, 0.04114857688546181, -0.305375874042511, -0.14904773235321045, 0.06736110895872116, -0.10139551013708115, -0.08682166039943695, 0.15946830809116364, -0.06714016944169998, -0.048233143985271454, 0.046558015048503876, -0.13434602320194244, -0.046299777925014496, 0.06298251450061798, -0.2528533339500427, -0.15312343835830688, 0.1714029461145401, -0.05782309174537659, 0.037685465067625046, -0.061080869287252426, 0.20365701615810394, 0.376887708902359, 0.08216533064842224, 0.16909204423427582, 0.01545812003314495, -0.1837882101535797, 0.07173532992601395, -0.16956092417240143, 0.23673060536384583, 0.11069586127996445, 0.07672407478094101, 0.09679028391838074, 0.05458779260516167, 0.38125696778297424, -0.03660423308610916, 0.13701657950878143, -0.2821088135242462, 0.0019515445455908775, 0.2823639512062073, -0.11157267540693283, 0.054524194449186325, 0.051867321133613586, 0.03925705701112747, ...]  \n",
       "16    [0.17356373369693756, 0.21600715816020966, 0.1487715095281601, 0.0991443544626236, -0.05500764027237892, -0.14483053982257843, -0.047977183014154434, 0.04020474851131439, -0.10685673356056213, 0.09362457692623138, -0.07375311851501465, -0.19295340776443481, -0.21159212291240692, -0.05858619511127472, 0.08021827787160873, 0.10846220701932907, -0.03515002503991127, -0.04146392643451691, 0.13905565440654755, -0.009824562817811966, -0.08920756727457047, 0.18892017006874084, 0.11638902872800827, -0.09693719446659088, 0.01724965125322342, -0.0646156445145607, 0.14350393414497375, -0.055740080773830414, -0.017951730638742447, -0.22277861833572388, -0.04700290784239769, -0.004818952642381191, 0.0935172364115715, 0.13734105229377747, -0.14466184377670288, 0.28909873962402344, -0.055347781628370285, 0.0245668888092041, 0.14875419437885284, 0.05798979848623276, 0.1445891559123993, -0.11545724421739578, 0.21235188841819763, 0.16487830877304077, 0.06822207570075989, -0.15010058879852295, -0.029386378824710846, -0.017012901604175568, 0.014033217914402485, -0.018443377688527107, -0.13453146815299988, -0.10270614176988602, -0.13766786456108093, 0.07653485983610153, 0.04898068681359291, 0.14268113672733307, 0.19108659029006958, 0.19845885038375854, -0.05283685401082039, 0.15482363104820251, -0.1877078115940094, 0.11580575257539749, -0.1263110488653183, 0.18138346076011658, -0.15988709032535553, -0.18258149921894073, -0.1060563251376152, 0.23042139410972595, -0.08828617632389069, 0.03661467134952545, -0.17774233222007751, -0.11916666477918625, -0.24747334420681, 0.29915446043014526, 0.18373261392116547, -0.002424714621156454, 0.022487524896860123, 0.07607526332139969, 0.24862630665302277, 0.08521183580160141, 0.10710453242063522, 0.05771438032388687, -0.09017039835453033, -0.06177239120006561, -0.02078516036272049, 0.12289058417081833, -0.09465707093477249, 0.3122539520263672, -0.03452209755778313, -0.07360018044710159, 0.1580105870962143, -0.2632480561733246, -0.18481236696243286, -0.11772867292165756, 0.03545527160167694, -0.09468301385641098, 0.09122546017169952, -0.24933753907680511, 0.07135744392871857, 0.1229221448302269, ...]  \n",
       "19                  [0.21498265862464905, -0.1338140070438385, -0.15241089463233948, 0.018481090664863586, -0.1721130907535553, 0.14696621894836426, -0.534835159778595, 0.07425738126039505, -0.01979743130505085, 0.24081525206565857, 0.012851404026150703, 0.4456937909126282, -0.04653630405664444, 0.28415051102638245, -0.1537528783082962, 0.048802535980939865, -0.13010302186012268, -0.38002312183380127, 0.05125071480870247, -0.16590723395347595, -0.2238708734512329, -0.17631617188453674, 0.13268138468265533, 0.10402385890483856, 0.43373140692710876, -0.11343739181756973, 0.266367107629776, -0.18176645040512085, 0.36818987131118774, -0.27978116273880005, -0.29986026883125305, -0.11524045467376709, 0.37736737728118896, 0.16705676913261414, -0.28707557916641235, 0.41835981607437134, 0.12364748865365982, 0.2206157147884369, -0.25064775347709656, 0.14350898563861847, 0.23864500224590302, -0.14503507316112518, 0.06765048205852509, 0.42712506651878357, 0.24761590361595154, -0.06591501086950302, 0.045373279601335526, -0.0026523596607148647, 0.05938880518078804, -0.2916160821914673, 0.06275871396064758, -0.11321983486413956, -0.005614741239696741, -0.34052449464797974, -0.06615789234638214, -0.009797804057598114, 0.15912991762161255, 0.04972008615732193, -0.19506575167179108, 0.2193414866924286, -0.379094660282135, -0.1198621392250061, -0.19109241664409637, 0.33293214440345764, -0.07729998230934143, 0.024731963872909546, 0.07032911479473114, 0.1503603756427765, 0.10985486209392548, 0.32244572043418884, -0.3808441758155823, -0.128275528550148, 0.1115277037024498, 0.09209723770618439, 0.006464316509664059, 0.4803921580314636, 0.31034889817237854, 0.10430793464183807, 0.2768212556838989, -0.19822850823402405, 0.019672315567731857, -0.20318853855133057, 0.22673971951007843, 0.27649328112602234, -0.11020563542842865, 0.024312783032655716, -0.08075201511383057, -0.08306858688592911, -0.28110644221305847, -0.21504783630371094, 0.27932009100914, -0.5578088760375977, -0.12498092651367188, 0.07578401267528534, -0.08619102090597153, 0.06649793684482574, 0.015399143099784851, -0.022996902465820312, 0.2939881384372711, 0.07195742428302765, ...]  "
      ]
     },
     "execution_count": 273,
     "metadata": {},
     "output_type": "execute_result"
    }
   ],
   "source": [
    "df.head(5)"
   ]
  },
  {
   "cell_type": "code",
   "execution_count": null,
   "id": "8306bf81",
   "metadata": {},
   "outputs": [],
   "source": [
    "df = df.drop(df.index[1])"
   ]
  },
  {
   "cell_type": "code",
   "execution_count": null,
   "id": "9c6d8d05",
   "metadata": {},
   "outputs": [
    {
     "data": {
      "text/plain": [
       "(108, 2)"
      ]
     },
     "execution_count": 275,
     "metadata": {},
     "output_type": "execute_result"
    }
   ],
   "source": [
    "df.shape"
   ]
  },
  {
   "cell_type": "code",
   "execution_count": null,
   "id": "ee66430a",
   "metadata": {},
   "outputs": [
    {
     "data": {
      "text/plain": [
       "Index(['Comments', 'Embedding'], dtype='object')"
      ]
     },
     "execution_count": 276,
     "metadata": {},
     "output_type": "execute_result"
    }
   ],
   "source": [
    "df.columns"
   ]
  },
  {
   "cell_type": "code",
   "execution_count": null,
   "id": "53c9488f",
   "metadata": {},
   "outputs": [],
   "source": []
  },
  {
   "cell_type": "markdown",
   "id": "57ee0751",
   "metadata": {},
   "source": [
    "### t-SNE"
   ]
  },
  {
   "cell_type": "markdown",
   "id": "c7fc53aa",
   "metadata": {},
   "source": [
    "### Reduciendo dimensionalidad"
   ]
  },
  {
   "cell_type": "code",
   "execution_count": null,
   "id": "8e83d759",
   "metadata": {},
   "outputs": [
    {
     "data": {
      "text/plain": [
       "(108, 2)"
      ]
     },
     "execution_count": 277,
     "metadata": {},
     "output_type": "execute_result"
    }
   ],
   "source": [
    "import pandas as pd\n",
    "from sklearn.manifold import TSNE\n",
    "import numpy as np\n",
    "from ast import literal_eval\n",
    "\n",
    "matrix = np.array(df.Embedding.tolist())\n",
    "\n",
    "import os\n",
    "os.environ[\"LOKY_MAX_CPU_COUNT\"] = \"4\"\n",
    "\n",
    "# Create a t-SNE model and transform the data\n",
    "tsne = TSNE(n_components=2, perplexity=15, random_state=42, init='random', learning_rate=200)\n",
    "vis_dims = tsne.fit_transform(matrix)\n",
    "vis_dims.shape\n",
    "\n"
   ]
  },
  {
   "cell_type": "markdown",
   "id": "fbffd54a",
   "metadata": {},
   "source": [
    "### Definiendo la cantidad ideal de clusters"
   ]
  },
  {
   "cell_type": "code",
   "execution_count": null,
   "id": "428cce04",
   "metadata": {},
   "outputs": [
    {
     "data": {
      "image/png": "[encoded data removed]",
      "text/plain": [
       "<Figure size 640x480 with 1 Axes>"
      ]
     },
     "metadata": {},
     "output_type": "display_data"
    }
   ],
   "source": [
    "from sklearn.cluster import KMeans\n",
    "from sklearn.metrics import silhouette_score\n",
    "import matplotlib.pyplot as plt\n",
    "\n",
    "inertia = []\n",
    "sil_score = []\n",
    "K = range(2, 15)\n",
    "\n",
    "for k in K:\n",
    "    kmeans = KMeans(n_clusters=k, random_state=42)\n",
    "    kmeans.fit(vis_dims)\n",
    "    inertia.append(kmeans.inertia_)\n",
    "    sil_score.append(silhouette_score(vis_dims, kmeans.labels_))\n",
    "\n",
    "# método del codo\n",
    "plt.plot(K, inertia, 'o-')\n",
    "plt.xlabel('Número de clusters')\n",
    "plt.ylabel('Inercia')\n",
    "plt.title('Método del codo')\n",
    "plt.show()"
   ]
  },
  {
   "cell_type": "code",
   "execution_count": null,
   "id": "4f853d41",
   "metadata": {},
   "outputs": [
    {
     "name": "stdout",
     "output_type": "stream",
     "text": [
      "Mejor número de clusters según silhouette: 2\n"
     ]
    }
   ],
   "source": [
    "# Mejor puntaje de silhouette\n",
    "best_k = K[sil_score.index(max(sil_score))]\n",
    "print(f\"Mejor número de clusters según silhouette: {best_k}\")"
   ]
  },
  {
   "cell_type": "markdown",
   "id": "98810be9",
   "metadata": {},
   "source": [
    "### Ploteando los embeddings"
   ]
  },
  {
   "cell_type": "code",
   "execution_count": null,
   "id": "4e1b13f9",
   "metadata": {},
   "outputs": [
    {
     "data": {
      "image/png": "[encoded data removed]",
      "text/plain": [
       "<Figure size 800x600 with 1 Axes>"
      ]
     },
     "metadata": {},
     "output_type": "display_data"
    }
   ],
   "source": [
    "# Aplicar K-Means con 2 clusters\n",
    "kmeans = KMeans(n_clusters=8, random_state=42)\n",
    "labels = kmeans.fit_predict(vis_dims)\n",
    "\n",
    "# Graficar\n",
    "plt.figure(figsize=(8,6))\n",
    "plt.scatter(vis_dims[:, 0], vis_dims[:, 1], c=labels, cmap='tab10', alpha=0.7)\n",
    "plt.title(\"t-SNE + K-Means (2 Clusters)\")\n",
    "plt.xlabel(\"t-SNE Dim 1\")\n",
    "plt.ylabel(\"t-SNE Dim 2\")\n",
    "plt.show()"
   ]
  },
  {
   "cell_type": "code",
   "execution_count": null,
   "id": "bec1381f",
   "metadata": {},
   "outputs": [],
   "source": [
    "df['Cluster'] = labels"
   ]
  },
  {
   "cell_type": "code",
   "execution_count": null,
   "id": "2809c62d",
   "metadata": {},
   "outputs": [
    {
     "data": {
      "text/html": [
       "<div>\n",
       "<style scoped>\n",
       "    .dataframe tbody tr th:only-of-type {\n",
       "        vertical-align: middle;\n",
       "    }\n",
       "\n",
       "    .dataframe tbody tr th {\n",
       "        vertical-align: top;\n",
       "    }\n",
       "\n",
       "    .dataframe thead th {\n",
       "        text-align: right;\n",
       "    }\n",
       "</style>\n",
       "<table border=\"1\" class=\"dataframe\">\n",
       "  <thead>\n",
       "    <tr style=\"text-align: right;\">\n",
       "      <th></th>\n",
       "      <th>Comments</th>\n",
       "      <th>Cluster</th>\n",
       "    </tr>\n",
       "  </thead>\n",
       "  <tbody>\n",
       "    <tr>\n",
       "      <th>0</th>\n",
       "      <td>Labure en un equipo de DS como monito programador, los DS todos tenian phd, es puro humo el resto.</td>\n",
       "      <td>3</td>\n",
       "    </tr>\n",
       "    <tr>\n",
       "      <th>3</th>\n",
       "      <td>Puro humo. El jefe de la parte de datos de la empresa tiene un doctorado en estadística y es ingeniero en sistemas.</td>\n",
       "      <td>7</td>\n",
       "    </tr>\n",
       "    <tr>\n",
       "      <th>16</th>\n",
       "      <td>Hola, yo quiero estudiar para dedicarme a eso y encontré una licenciatura. Te puedo mandar dm?</td>\n",
       "      <td>3</td>\n",
       "    </tr>\n",
       "    <tr>\n",
       "      <th>19</th>\n",
       "      <td>Ya empezaron pero primero con cursos.</td>\n",
       "      <td>4</td>\n",
       "    </tr>\n",
       "    <tr>\n",
       "      <th>28</th>\n",
       "      <td>estudiar online es una paja, no lo recomiendo xd, no es lo mismo</td>\n",
       "      <td>3</td>\n",
       "    </tr>\n",
       "    <tr>\n",
       "      <th>31</th>\n",
       "      <td>Hágalo en la Chile par que seamos compañeros</td>\n",
       "      <td>5</td>\n",
       "    </tr>\n",
       "    <tr>\n",
       "      <th>34</th>\n",
       "      <td>Y que magister tienes tu? donde lo hiciste?</td>\n",
       "      <td>0</td>\n",
       "    </tr>\n",
       "    <tr>\n",
       "      <th>35</th>\n",
       "      <td>Hay certificaciones de Data Science en Databricks, Azure, GCP y muchas más.</td>\n",
       "      <td>7</td>\n",
       "    </tr>\n",
       "    <tr>\n",
       "      <th>38</th>\n",
       "      <td>Que carrera estudiaste?. Que edad tienes?</td>\n",
       "      <td>1</td>\n",
       "    </tr>\n",
       "    <tr>\n",
       "      <th>41</th>\n",
       "      <td>El movimiento siempre será mejor que quedarse estancado</td>\n",
       "      <td>0</td>\n",
       "    </tr>\n",
       "    <tr>\n",
       "      <th>50</th>\n",
       "      <td>Es mejor moverte a algo más de lo que ya haces que empezar de 0 en algo más</td>\n",
       "      <td>6</td>\n",
       "    </tr>\n",
       "    <tr>\n",
       "      <th>56</th>\n",
       "      <td>Y los alemantes se movieron. Votaron a hitler</td>\n",
       "      <td>0</td>\n",
       "    </tr>\n",
       "    <tr>\n",
       "      <th>57</th>\n",
       "      <td>Creo lo mismo y siento que puedo aportar desde ámbito empresarial mucho de mi experiencia anterior.</td>\n",
       "      <td>6</td>\n",
       "    </tr>\n",
       "    <tr>\n",
       "      <th>59</th>\n",
       "      <td>¿Ambientales? ¿De qué se trata ese punto?</td>\n",
       "      <td>0</td>\n",
       "    </tr>\n",
       "    <tr>\n",
       "      <th>63</th>\n",
       "      <td>Y no has pensado en cambiar de trabajo?. Como lo hizo el tipo que ahora es tu jefe?</td>\n",
       "      <td>6</td>\n",
       "    </tr>\n",
       "    <tr>\n",
       "      <th>64</th>\n",
       "      <td>Ser jefe no es para cualquiera, por más que no te parezca justo, hay gente que no nació para liderar</td>\n",
       "      <td>6</td>\n",
       "    </tr>\n",
       "    <tr>\n",
       "      <th>66</th>\n",
       "      <td>No me lo había plateado, pero puede ser una muy buena opción</td>\n",
       "      <td>5</td>\n",
       "    </tr>\n",
       "    <tr>\n",
       "      <th>70</th>\n",
       "      <td>Siempre esta el loco que relaciona todo con la segunda guerra mundial o la política.</td>\n",
       "      <td>0</td>\n",
       "    </tr>\n",
       "    <tr>\n",
       "      <th>71</th>\n",
       "      <td>¿Robótica? Me interesa eso. Quizá en 500 vidas lo consiga estudiar.</td>\n",
       "      <td>3</td>\n",
       "    </tr>\n",
       "    <tr>\n",
       "      <th>72</th>\n",
       "      <td>Estamos ante la antesala de una nueva revolucion industrial, no te quedes quieto, si te interesan los datos metele</td>\n",
       "      <td>1</td>\n",
       "    </tr>\n",
       "    <tr>\n",
       "      <th>73</th>\n",
       "      <td>Creo que quizás pueda ser buen complemento para mi y lo que ya ido aprendiendo de industrias</td>\n",
       "      <td>4</td>\n",
       "    </tr>\n",
       "    <tr>\n",
       "      <th>79</th>\n",
       "      <td>Soy ingeniero de datos y todavía no encuentro un científico que le achunte a lo que dice.</td>\n",
       "      <td>7</td>\n",
       "    </tr>\n",
       "    <tr>\n",
       "      <th>82</th>\n",
       "      <td>Si hay alguna mención en Machine Learning o Inteligencia Artificial vaya por ahí</td>\n",
       "      <td>3</td>\n",
       "    </tr>\n",
       "    <tr>\n",
       "      <th>85</th>\n",
       "      <td>Te recomiendo meterte en ingenieria de datos.</td>\n",
       "      <td>7</td>\n",
       "    </tr>\n",
       "    <tr>\n",
       "      <th>88</th>\n",
       "      <td>En regiones gralmente es difícil la vd</td>\n",
       "      <td>6</td>\n",
       "    </tr>\n",
       "    <tr>\n",
       "      <th>89</th>\n",
       "      <td>Regiones no hay nada. Incluso remoto está duro, todo es híbrido o presencial.</td>\n",
       "      <td>6</td>\n",
       "    </tr>\n",
       "    <tr>\n",
       "      <th>92</th>\n",
       "      <td>De hecho hace unos pocos meses anunciaron la nueva mención (la quinta), que es mención en inteligencia artificial...</td>\n",
       "      <td>3</td>\n",
       "    </tr>\n",
       "    <tr>\n",
       "      <th>116</th>\n",
       "      <td>Gracias, los tomaré en consideración ❤️</td>\n",
       "      <td>5</td>\n",
       "    </tr>\n",
       "    <tr>\n",
       "      <th>122</th>\n",
       "      <td>Si me pagan bien por ello no me importaria sufrir, pero las matemáticas son super mal pagadas</td>\n",
       "      <td>4</td>\n",
       "    </tr>\n",
       "    <tr>\n",
       "      <th>126</th>\n",
       "      <td>Huevos no. Si no tienes cabeza para mates mejor que le eches horas</td>\n",
       "      <td>0</td>\n",
       "    </tr>\n",
       "  </tbody>\n",
       "</table>\n",
       "</div>"
      ],
      "text/plain": [
       "                                                                                                                  Comments  \\\n",
       "0                       Labure en un equipo de DS como monito programador, los DS todos tenian phd, es puro humo el resto.   \n",
       "3      Puro humo. El jefe de la parte de datos de la empresa tiene un doctorado en estadística y es ingeniero en sistemas.   \n",
       "16                          Hola, yo quiero estudiar para dedicarme a eso y encontré una licenciatura. Te puedo mandar dm?   \n",
       "19                                                                                   Ya empezaron pero primero con cursos.   \n",
       "28                                                        estudiar online es una paja, no lo recomiendo xd, no es lo mismo   \n",
       "31                                                                            Hágalo en la Chile par que seamos compañeros   \n",
       "34                                                                             Y que magister tienes tu? donde lo hiciste?   \n",
       "35                                             Hay certificaciones de Data Science en Databricks, Azure, GCP y muchas más.   \n",
       "38                                                                               Que carrera estudiaste?. Que edad tienes?   \n",
       "41                                                                 El movimiento siempre será mejor que quedarse estancado   \n",
       "50                                             Es mejor moverte a algo más de lo que ya haces que empezar de 0 en algo más   \n",
       "56                                                                           Y los alemantes se movieron. Votaron a hitler   \n",
       "57                     Creo lo mismo y siento que puedo aportar desde ámbito empresarial mucho de mi experiencia anterior.   \n",
       "59                                                                               ¿Ambientales? ¿De qué se trata ese punto?   \n",
       "63                                     Y no has pensado en cambiar de trabajo?. Como lo hizo el tipo que ahora es tu jefe?   \n",
       "64                    Ser jefe no es para cualquiera, por más que no te parezca justo, hay gente que no nació para liderar   \n",
       "66                                                            No me lo había plateado, pero puede ser una muy buena opción   \n",
       "70                                    Siempre esta el loco que relaciona todo con la segunda guerra mundial o la política.   \n",
       "71                                                     ¿Robótica? Me interesa eso. Quizá en 500 vidas lo consiga estudiar.   \n",
       "72      Estamos ante la antesala de una nueva revolucion industrial, no te quedes quieto, si te interesan los datos metele   \n",
       "73                            Creo que quizás pueda ser buen complemento para mi y lo que ya ido aprendiendo de industrias   \n",
       "79                               Soy ingeniero de datos y todavía no encuentro un científico que le achunte a lo que dice.   \n",
       "82                                        Si hay alguna mención en Machine Learning o Inteligencia Artificial vaya por ahí   \n",
       "85                                                                           Te recomiendo meterte en ingenieria de datos.   \n",
       "88                                                                                  En regiones gralmente es difícil la vd   \n",
       "89                                           Regiones no hay nada. Incluso remoto está duro, todo es híbrido o presencial.   \n",
       "92   De hecho hace unos pocos meses anunciaron la nueva mención (la quinta), que es mención en inteligencia artificial...    \n",
       "116                                                                                Gracias, los tomaré en consideración ❤️   \n",
       "122                          Si me pagan bien por ello no me importaria sufrir, pero las matemáticas son super mal pagadas   \n",
       "126                                                     Huevos no. Si no tienes cabeza para mates mejor que le eches horas   \n",
       "\n",
       "     Cluster  \n",
       "0          3  \n",
       "3          7  \n",
       "16         3  \n",
       "19         4  \n",
       "28         3  \n",
       "31         5  \n",
       "34         0  \n",
       "35         7  \n",
       "38         1  \n",
       "41         0  \n",
       "50         6  \n",
       "56         0  \n",
       "57         6  \n",
       "59         0  \n",
       "63         6  \n",
       "64         6  \n",
       "66         5  \n",
       "70         0  \n",
       "71         3  \n",
       "72         1  \n",
       "73         4  \n",
       "79         7  \n",
       "82         3  \n",
       "85         7  \n",
       "88         6  \n",
       "89         6  \n",
       "92         3  \n",
       "116        5  \n",
       "122        4  \n",
       "126        0  "
      ]
     },
     "execution_count": 282,
     "metadata": {},
     "output_type": "execute_result"
    }
   ],
   "source": [
    "import pandas as pd\n",
    "\n",
    "pd.set_option(\"display.max_rows\", None)       # mostrar todas las filas\n",
    "pd.set_option(\"display.max_colwidth\", None)   # mostrar todo el texto en cada celda\n",
    "\n",
    "# DataFrame con solo las columnas Comments y Cluster\n",
    "df_selected = df[['Comments', 'Cluster']]\n",
    "\n",
    "# Mostrar las primeras 20 filas\n",
    "df_selected.head(30)"
   ]
  },
  {
   "cell_type": "code",
   "execution_count": null,
   "id": "099595b1",
   "metadata": {},
   "outputs": [
    {
     "data": {
      "text/html": [
       "<div>\n",
       "<style scoped>\n",
       "    .dataframe tbody tr th:only-of-type {\n",
       "        vertical-align: middle;\n",
       "    }\n",
       "\n",
       "    .dataframe tbody tr th {\n",
       "        vertical-align: top;\n",
       "    }\n",
       "\n",
       "    .dataframe thead th {\n",
       "        text-align: right;\n",
       "    }\n",
       "</style>\n",
       "<table border=\"1\" class=\"dataframe\">\n",
       "  <thead>\n",
       "    <tr style=\"text-align: right;\">\n",
       "      <th></th>\n",
       "      <th>Comments</th>\n",
       "      <th>Cluster</th>\n",
       "    </tr>\n",
       "  </thead>\n",
       "  <tbody>\n",
       "    <tr>\n",
       "      <th>352</th>\n",
       "      <td>Cómo BIt data analista coincido con este sujeto. Súmale la ingeniería. Ahí es donde está la mayor parte del laburo</td>\n",
       "      <td>1</td>\n",
       "    </tr>\n",
       "    <tr>\n",
       "      <th>359</th>\n",
       "      <td>No me tienen harto esta invasion de cada payaso, despues es un parto laburar con ellos</td>\n",
       "      <td>0</td>\n",
       "    </tr>\n",
       "    <tr>\n",
       "      <th>360</th>\n",
       "      <td>Pero el flaco ni empezo jsjsjs, vos como empezaste? saliste de un pozo?</td>\n",
       "      <td>0</td>\n",
       "    </tr>\n",
       "    <tr>\n",
       "      <th>361</th>\n",
       "      <td>Yo no tuve infancia, naci grande como moron..</td>\n",
       "      <td>6</td>\n",
       "    </tr>\n",
       "    <tr>\n",
       "      <th>362</th>\n",
       "      <td>La ciencia de datos ayuda a descubrir patrones ocultos en la información.</td>\n",
       "      <td>1</td>\n",
       "    </tr>\n",
       "    <tr>\n",
       "      <th>363</th>\n",
       "      <td>Las empresas usan ciencia de datos para optimizar procesos y reducir costos.</td>\n",
       "      <td>7</td>\n",
       "    </tr>\n",
       "    <tr>\n",
       "      <th>364</th>\n",
       "      <td>La ciencia de datos mejora la precisión de las decisiones estratégicas.</td>\n",
       "      <td>7</td>\n",
       "    </tr>\n",
       "    <tr>\n",
       "      <th>365</th>\n",
       "      <td>El análisis de datos permite personalizar servicios y productos para cada cliente.</td>\n",
       "      <td>7</td>\n",
       "    </tr>\n",
       "    <tr>\n",
       "      <th>366</th>\n",
       "      <td>La ciencia de datos impulsa la investigación en salud, energía y sostenibilidad.</td>\n",
       "      <td>7</td>\n",
       "    </tr>\n",
       "    <tr>\n",
       "      <th>367</th>\n",
       "      <td>El auge de la IA hará que muchas tareas de ciencia de datos sean automáticas.</td>\n",
       "      <td>1</td>\n",
       "    </tr>\n",
       "    <tr>\n",
       "      <th>368</th>\n",
       "      <td>Demasiadas personas estudian ciencia de datos, el mercado se está saturando.</td>\n",
       "      <td>1</td>\n",
       "    </tr>\n",
       "    <tr>\n",
       "      <th>369</th>\n",
       "      <td>Herramientas no-code reducen la necesidad de expertos en ciencia de datos.</td>\n",
       "      <td>7</td>\n",
       "    </tr>\n",
       "    <tr>\n",
       "      <th>370</th>\n",
       "      <td>El valor de la ciencia de datos caerá cuando haya modelos listos para todo.</td>\n",
       "      <td>7</td>\n",
       "    </tr>\n",
       "    <tr>\n",
       "      <th>371</th>\n",
       "      <td>Pronto, la automatización hará innecesario gran parte del trabajo en ciencia de datos.Me encantan los carros deportivos</td>\n",
       "      <td>1</td>\n",
       "    </tr>\n",
       "  </tbody>\n",
       "</table>\n",
       "</div>"
      ],
      "text/plain": [
       "                                                                                                                    Comments  \\\n",
       "352       Cómo BIt data analista coincido con este sujeto. Súmale la ingeniería. Ahí es donde está la mayor parte del laburo   \n",
       "359                                   No me tienen harto esta invasion de cada payaso, despues es un parto laburar con ellos   \n",
       "360                                                  Pero el flaco ni empezo jsjsjs, vos como empezaste? saliste de un pozo?   \n",
       "361                                                                            Yo no tuve infancia, naci grande como moron..   \n",
       "362                                                La ciencia de datos ayuda a descubrir patrones ocultos en la información.   \n",
       "363                                             Las empresas usan ciencia de datos para optimizar procesos y reducir costos.   \n",
       "364                                                  La ciencia de datos mejora la precisión de las decisiones estratégicas.   \n",
       "365                                       El análisis de datos permite personalizar servicios y productos para cada cliente.   \n",
       "366                                         La ciencia de datos impulsa la investigación en salud, energía y sostenibilidad.   \n",
       "367                                            El auge de la IA hará que muchas tareas de ciencia de datos sean automáticas.   \n",
       "368                                             Demasiadas personas estudian ciencia de datos, el mercado se está saturando.   \n",
       "369                                               Herramientas no-code reducen la necesidad de expertos en ciencia de datos.   \n",
       "370                                              El valor de la ciencia de datos caerá cuando haya modelos listos para todo.   \n",
       "371  Pronto, la automatización hará innecesario gran parte del trabajo en ciencia de datos.Me encantan los carros deportivos   \n",
       "\n",
       "     Cluster  \n",
       "352        1  \n",
       "359        0  \n",
       "360        0  \n",
       "361        6  \n",
       "362        1  \n",
       "363        7  \n",
       "364        7  \n",
       "365        7  \n",
       "366        7  \n",
       "367        1  \n",
       "368        1  \n",
       "369        7  \n",
       "370        7  \n",
       "371        1  "
      ]
     },
     "execution_count": 286,
     "metadata": {},
     "output_type": "execute_result"
    }
   ],
   "source": [
    "df_selected.tail(14)\n"
   ]
  },
  {
   "cell_type": "markdown",
   "id": "90aebc21",
   "metadata": {},
   "source": [
    "# Guardar csv"
   ]
  },
  {
   "cell_type": "code",
   "execution_count": null,
   "id": "6408f36e",
   "metadata": {},
   "outputs": [],
   "source": [
    "df.to_csv('reddit_comments_with_embeddings.csv', index=False)"
   ]
  },
  {
   "cell_type": "code",
   "execution_count": null,
   "id": "bbe00725",
   "metadata": {},
   "outputs": [],
   "source": []
  }
 ],
 "metadata": {
  "kernelspec": {
   "display_name": "venv",
   "language": "python",
   "name": "python3"
  },
  "language_info": {
   "codemirror_mode": {
    "name": "ipython",
    "version": 3
   },
   "file_extension": ".py",
   "mimetype": "text/x-python",
   "name": "python",
   "nbconvert_exporter": "python",
   "pygments_lexer": "ipython3",
   "version": "3.11.4"
  }
 },
 "nbformat": 4,
 "nbformat_minor": 5
}
